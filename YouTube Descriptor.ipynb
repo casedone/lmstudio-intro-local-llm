{
 "cells": [
  {
   "cell_type": "code",
   "execution_count": 1,
   "metadata": {},
   "outputs": [],
   "source": [
    "# Chat with an intelligent assistant in your terminal\n",
    "from openai import OpenAI\n",
    "\n",
    "# Point to the local server\n",
    "client = OpenAI(base_url=\"http://localhost:1234/v1\", api_key=\"lm-studio\")\n",
    "\n",
    "history = [\n",
    "    {\"role\": \"system\", \"content\": \\\n",
    "\"\"\"As a creative assistant, I'm here to help you craft compelling, SEO-optimized YouTube video descriptions that stand out. I will not help with other tasks. Here's how we can start:\n",
    "\n",
    "1. Information Gathering: I'll ask a few questions to understand your video better, including its title, content, target audience, and any specific keywords or calls to action you want to include.\n",
    "\n",
    "2. Content Creation: Based on your answers, I'll draft a description that captures the essence of your video, engages your audience, and enhances discoverability.\n",
    "\n",
    "3. Review and Refine: We'll review the description together, making sure it aligns with your goals and preferences, including the use of hashtags or social media links if desired.\n",
    "\n",
    "My approach ensures that your video description is not only clear and engaging but also tailored to meet your specific needs and audience expectations. Let’s make your content shine!\n",
    "\"\"\"},\n",
    "]\n"
   ]
  },
  {
   "cell_type": "code",
   "execution_count": 2,
   "metadata": {},
   "outputs": [],
   "source": [
    "def get_completion(input):\n",
    "    message = {\"role\": \"user\", \"content\": input}\n",
    "    _history = history+[message]\n",
    "    completion = client.chat.completions.create(\n",
    "        model=\"lmstudio-community/Meta-Llama-3-8B-Instruct-GGUF\",\n",
    "        messages=_history,\n",
    "        temperature=0.7,\n",
    "        stream=True,\n",
    "    )\n",
    "    return completion"
   ]
  },
  {
   "cell_type": "code",
   "execution_count": 3,
   "metadata": {},
   "outputs": [],
   "source": [
    "def wrapper_chat_history(chat_history, history):\n",
    "    chat_history = history[1:]\n",
    "    return chat_history"
   ]
  },
  {
   "cell_type": "code",
   "execution_count": 4,
   "metadata": {},
   "outputs": [],
   "source": [
    "def converse(message, chat_history):\n",
    "    response = get_completion(input=message)\n",
    "    user_msg = {\"role\": \"user\", \"content\": message}\n",
    "    history.append(user_msg)\n",
    "    ai_msg = {\"role\": \"assistant\", \"content\": \"\"}\n",
    "    history.append(ai_msg)\n",
    "    partial_message = \"\"\n",
    "    for chunk in response:\n",
    "        if chunk.choices[0].delta.content is not None:\n",
    "            _tkn = chunk.choices[0].delta.content\n",
    "            partial_message = partial_message + _tkn\n",
    "            history[-1][\"content\"] += _tkn\n",
    "            chat_history = wrapper_chat_history(chat_history, history)\n",
    "            yield partial_message\n",
    "    "
   ]
  },
  {
   "cell_type": "code",
   "execution_count": 6,
   "metadata": {},
   "outputs": [
    {
     "name": "stdout",
     "output_type": "stream",
     "text": [
      "Running on local URL:  http://127.0.0.1:7863\n",
      "Running on public URL: https://4c65229df98593a864.gradio.live\n",
      "\n",
      "This share link expires in 72 hours. For free permanent hosting and GPU upgrades, run `gradio deploy` from Terminal to deploy to Spaces (https://huggingface.co/spaces)\n"
     ]
    },
    {
     "data": {
      "text/html": [
       "<div><iframe src=\"https://4c65229df98593a864.gradio.live\" width=\"100%\" height=\"500\" allow=\"autoplay; camera; microphone; clipboard-read; clipboard-write;\" frameborder=\"0\" allowfullscreen></iframe></div>"
      ],
      "text/plain": [
       "<IPython.core.display.HTML object>"
      ]
     },
     "metadata": {},
     "output_type": "display_data"
    },
    {
     "data": {
      "text/plain": []
     },
     "execution_count": 6,
     "metadata": {},
     "output_type": "execute_result"
    }
   ],
   "source": [
    "import gradio as gr\n",
    "\n",
    "history = [\n",
    "    {\"role\": \"system\", \"content\": \\\n",
    "\"\"\"As a creative assistant, I'm here to help you craft compelling, SEO-optimized YouTube video descriptions that stand out. I will not help with other tasks. Here's how we can start:\n",
    "\n",
    "1. Information Gathering: I'll ask a few questions to understand your video better, including its title, content, target audience, and any specific keywords or calls to action you want to include.\n",
    "\n",
    "2. Content Creation: Based on your answers, I'll draft a description that captures the essence of your video, engages your audience, and enhances discoverability.\n",
    "\n",
    "3. Review and Refine: We'll review the description together, making sure it aligns with your goals and preferences, including the use of hashtags or social media links if desired.\n",
    "\n",
    "My approach ensures that your video description is not only clear and engaging but also tailored to meet your specific needs and audience expectations. Let’s make your content shine!\n",
    "\"\"\"},\n",
    "]\n",
    "\n",
    "demo = gr.ChatInterface(fn=converse)\n",
    "\n",
    "demo.launch(share=True)\n"
   ]
  },
  {
   "cell_type": "code",
   "execution_count": null,
   "metadata": {},
   "outputs": [],
   "source": []
  }
 ],
 "metadata": {
  "kernelspec": {
   "display_name": "openai",
   "language": "python",
   "name": "python3"
  },
  "language_info": {
   "codemirror_mode": {
    "name": "ipython",
    "version": 3
   },
   "file_extension": ".py",
   "mimetype": "text/x-python",
   "name": "python",
   "nbconvert_exporter": "python",
   "pygments_lexer": "ipython3",
   "version": "3.10.3"
  }
 },
 "nbformat": 4,
 "nbformat_minor": 2
}
